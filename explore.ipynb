{
 "metadata": {
  "language_info": {
   "codemirror_mode": {
    "name": "ipython",
    "version": 3
   },
   "file_extension": ".py",
   "mimetype": "text/x-python",
   "name": "python",
   "nbconvert_exporter": "python",
   "pygments_lexer": "ipython3",
   "version": "3.8.5-final"
  },
  "orig_nbformat": 2,
  "kernelspec": {
   "name": "python3",
   "display_name": "Python 3.8.5 64-bit",
   "metadata": {
    "interpreter": {
     "hash": "1024a6ebb65ba90524221acc1e1a30f1c582ed8550757c1e96f74218fb645ede"
    }
   }
  }
 },
 "nbformat": 4,
 "nbformat_minor": 2,
 "cells": [
  {
   "cell_type": "code",
   "execution_count": 1,
   "metadata": {},
   "outputs": [],
   "source": [
    "from newsplease import NewsPlease"
   ]
  },
  {
   "cell_type": "code",
   "execution_count": 2,
   "metadata": {},
   "outputs": [
    {
     "output_type": "stream",
     "name": "stdout",
     "text": [
      "Date: 2020-12-20 07:42:13 from json\n"
     ]
    }
   ],
   "source": [
    "article = NewsPlease.from_url('https://biz.kompas.com/read/2020/12/20/144213828/merawat-keindahan-bumi-garnier-luncurkan-program-green-beauty')"
   ]
  },
  {
   "cell_type": "code",
   "execution_count": 4,
   "metadata": {},
   "outputs": [
    {
     "output_type": "stream",
     "name": "stdout",
     "text": [
      "Date: 2020-11-18 23:01:28 from json\n"
     ]
    }
   ],
   "source": [
    "article = NewsPlease.from_url('https://www.cnnindonesia.com/nasional/20201118220413-12-571620/kerumunan-rizieq-di-bogor-diperiksa-tim-gabungan-polri')\n"
   ]
  },
  {
   "cell_type": "code",
   "execution_count": 3,
   "metadata": {},
   "outputs": [
    {
     "output_type": "execute_result",
     "data": {
      "text/plain": [
       "datetime.datetime(2020, 12, 24, 10, 40, 16)"
      ]
     },
     "metadata": {},
     "execution_count": 3
    }
   ],
   "source": [
    "article.date_publish"
   ]
  },
  {
   "cell_type": "code",
   "execution_count": 3,
   "metadata": {},
   "outputs": [
    {
     "output_type": "execute_result",
     "data": {
      "text/plain": [
       "datetime.datetime(2020, 12, 10, 0, 0)"
      ]
     },
     "metadata": {},
     "execution_count": 3
    }
   ],
   "source": [
    "# before\n",
    "article.date_publish"
   ]
  },
  {
   "cell_type": "code",
   "execution_count": 5,
   "metadata": {},
   "outputs": [
    {
     "output_type": "stream",
     "name": "stdout",
     "text": [
      "Date: 2020-12-22 22:43:32 from json\n"
     ]
    }
   ],
   "source": [
    "article = NewsPlease.from_url('https://www.kompasiana.com/berlianamarthasihotang5096/5fe21424d541df6a290e7e72/maria-teladannya-tak-pudar-oleh-waktu?utm_source=kompascom&utm_medium=article&utm_campaign=ContentFeed')"
   ]
  },
  {
   "cell_type": "code",
   "execution_count": 6,
   "metadata": {},
   "outputs": [
    {
     "output_type": "execute_result",
     "data": {
      "text/plain": [
       "datetime.datetime(2020, 12, 22, 22, 43, 32)"
      ]
     },
     "metadata": {},
     "execution_count": 6
    }
   ],
   "source": [
    "article.date_publish"
   ]
  },
  {
   "cell_type": "code",
   "execution_count": 9,
   "metadata": {},
   "outputs": [],
   "source": [
    "article.date_modify"
   ]
  },
  {
   "cell_type": "code",
   "execution_count": null,
   "metadata": {},
   "outputs": [],
   "source": []
  },
  {
   "cell_type": "code",
   "execution_count": 10,
   "metadata": {},
   "outputs": [
    {
     "output_type": "stream",
     "name": "stdout",
     "text": [
      "Date: 2020-12-14 08:51:00 from json\n"
     ]
    }
   ],
   "source": [
    "article = NewsPlease.from_url(\"https://www.cnnindonesia.com/nasional/20201214083527-32-581674/fadli-zon-siap-jamin-penangguhan-penahanan-rizieq-shihab\")"
   ]
  },
  {
   "cell_type": "code",
   "execution_count": 11,
   "metadata": {},
   "outputs": [],
   "source": [
    "article.date_modify"
   ]
  },
  {
   "cell_type": "code",
   "execution_count": null,
   "metadata": {},
   "outputs": [],
   "source": []
  },
  {
   "cell_type": "code",
   "execution_count": null,
   "metadata": {},
   "outputs": [],
   "source": []
  },
  {
   "source": [
    "Tes from html"
   ],
   "cell_type": "markdown",
   "metadata": {}
  },
  {
   "cell_type": "code",
   "execution_count": 1,
   "metadata": {},
   "outputs": [],
   "source": [
    "from newsplease import NewsPlease as nwspl"
   ]
  },
  {
   "cell_type": "code",
   "execution_count": 2,
   "metadata": {},
   "outputs": [],
   "source": [
    "from datetime import datetime"
   ]
  },
  {
   "cell_type": "code",
   "execution_count": 3,
   "metadata": {},
   "outputs": [],
   "source": [
    "from lxml import etree"
   ]
  },
  {
   "cell_type": "code",
   "execution_count": 7,
   "metadata": {},
   "outputs": [],
   "source": [
    "sample_path = \"dummy_data/investment_20201222145448-21-210919_tenang-tak-usah-takut-investasi-saham-karena-corona-baru_1608890347.html\"\n",
    "sample_content = etree.parse(sample_path, etree.HTMLParser())\n",
    "with open(sample_path, \"r\") as sample_html:\n",
    "    sample_html = sample_html.read()\n",
    "\n",
    "sample_url = sample_content.xpath('//link[@rel=\"canonical\"]/@href')[0]\n",
    "download_date = datetime.now().strftime(\"%Y-%m-%d %H:%M\")\n",
    "nwspl.from_html(sample_html, url=sample_url, download_date=download_date).get_dict()"
   ]
  },
  {
   "cell_type": "code",
   "execution_count": 9,
   "metadata": {},
   "outputs": [
    {
     "output_type": "execute_result",
     "data": {
      "text/plain": [
       "{'authors': ['Https', 'Www.Facebook.Com Cnbcindonesia'],\n",
       " 'date_download': datetime.datetime(2020, 12, 28, 11, 23),\n",
       " 'date_modify': datetime.datetime(2020, 12, 28, 11, 23),\n",
       " 'date_publish': datetime.datetime(2020, 12, 23, 12, 55),\n",
       " 'description': 'Muncul corona jenis baru? Investor jangan panik',\n",
       " 'filename': 'https%3A%2F%2Fwww.cnbcindonesia.com%2Finvestment%2F20201222145448-21-210919%2Ftenang-tak-usah-takut-investasi-saham-karena-corona-baru.json',\n",
       " 'image_url': 'https://akcdn.detik.net.id/visual/2020/12/22/infografis-who-buka-suara-ada-kabar-baik-soal-varian-corona-inggrisaristya-rahadian_169.jpeg?w=650',\n",
       " 'language': 'id',\n",
       " 'localpath': None,\n",
       " 'maintext': 'Jakarta, CNBC Indonesia - Host CNBC Internasional Jim Cramer mengatakan para investor tidak perlu terlalu panik terhadap strain baru Covid-19 yang muncul di Britania Raya.\\nJim mencatat bahwa respons Britania Raya terhadap kemunculan jenis baru virus corona dan sentimen positif dari perusahaan-perusahaan Paman Sam sebagai alasan bagi para investor agar tetap optimis.\\n\"Saya tidak akan menyerah terhadap pasar modal karena angka 70% ini, Britania sendiri yang memang kurang piawai dalam menanggulangi corona,\" Ujar Cramer pada ajara Squawk on the Street.\\n\"Kita bisa mengambil seluruh sentimen dari Britania, atau kita lebih baik mengambil sentimen dari perusahaan-perusahaan dalam negeri yang kinerjanya berhasil membaik.\"\\nPasar Modal Amerika Serikat dibuka anjlok pada perdagangan Senin kemarin setelah Britania Raya mengidentifikasi jenis baru virus Covid-19 yang 70% ebih menular dibanding jenis sebelumnya. Hal ini menyebabkan pasar modal benua biru ambruk, di titik terendahnya Dow sempat tumbang 300 poin.\\nBerberapa negara di Eropa langsung melarang penerbangan dari Britania, meskipun para ahli mengatakan vaksin-vaksin yang baru saja diotorisasi seperti vaksin Pfizer dan Moderna kemungkinan besar akan efektif menghadapi jenis baru virus ini.\\nSang host program Mad Money juga menambahkan kesepakatan dalam stimulus fiskal di kongres, pendapatan perusahaan Nike yang kuat, dan perbankan yang siap melakukan buyback menjadi katalis positif tersendiri bagi pasar modal.\\nSelanjutnya Cramer juga menambahkan, perusahaan finansial raksasa Citi baru saja meningkatkan status saham Microsoft dari Netral menjadi Beli, dan berkata bahwa saham-saham teknologi akan berperforma ciamik di tengah pengetatan sosial corona jilid 2.\\n\"Jangan buang saham anda sekarang. Lihat perusahaan-perusahaan yang sukses berkinerja baik meskipun kondisi lockdown,\" Ujar Cramer.\\nBritania Raya baru saja mengkonfirmasi lebih dari 2 juta kasus virus corona menurut data yang dikumpulkan oleh Universitas Johns Hopkins. Secara per kapita, angka ini lebih rendah dari angka infeksi di negara-negara lain seperti AS, meskipun masih lebih tinggi dibanding Jerman dan Kanada.\\nPerdana Menteri Inggris Raya juga baru saja menginstruksikan untuk meningkatkan pengetatan sosial untuk mengurangi kerumunan di berberapa wilayah seperti di London pada musim liburan Natal ini untuk menekan pandemi.\\nTIM RISET CNBC INDONESIA',\n",
       " 'source_domain': 'www.cnbcindonesia.com',\n",
       " 'text': None,\n",
       " 'title': \"Tenang! Tak Usah Takut Investasi Saham karena 'Corona Baru'\",\n",
       " 'title_page': None,\n",
       " 'title_rss': None,\n",
       " 'url': 'https://www.cnbcindonesia.com/investment/20201222145448-21-210919/tenang-tak-usah-takut-investasi-saham-karena-corona-baru'}"
      ]
     },
     "metadata": {},
     "execution_count": 9
    }
   ],
   "source": []
  },
  {
   "cell_type": "code",
   "execution_count": null,
   "metadata": {},
   "outputs": [],
   "source": []
  }
 ]
}