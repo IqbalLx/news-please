{
 "metadata": {
  "language_info": {
   "codemirror_mode": {
    "name": "ipython",
    "version": 3
   },
   "file_extension": ".py",
   "mimetype": "text/x-python",
   "name": "python",
   "nbconvert_exporter": "python",
   "pygments_lexer": "ipython3",
   "version": "3.8.5-final"
  },
  "orig_nbformat": 2,
  "kernelspec": {
   "name": "rri",
   "display_name": "rri",
   "language": "python"
  }
 },
 "nbformat": 4,
 "nbformat_minor": 2,
 "cells": [
  {
   "cell_type": "code",
   "execution_count": 1,
   "metadata": {},
   "outputs": [],
   "source": [
    "from newsplease import NewsPlease"
   ]
  },
  {
   "cell_type": "code",
   "execution_count": 2,
   "metadata": {},
   "outputs": [
    {
     "output_type": "stream",
     "name": "stdout",
     "text": [
      "Date: 2020-12-20 07:42:13 from json\n"
     ]
    }
   ],
   "source": [
    "article = NewsPlease.from_url('https://biz.kompas.com/read/2020/12/20/144213828/merawat-keindahan-bumi-garnier-luncurkan-program-green-beauty')"
   ]
  },
  {
   "cell_type": "code",
   "execution_count": 4,
   "metadata": {},
   "outputs": [
    {
     "output_type": "stream",
     "name": "stdout",
     "text": [
      "Date: 2020-11-18 23:01:28 from json\n"
     ]
    }
   ],
   "source": [
    "article = NewsPlease.from_url('https://www.cnnindonesia.com/nasional/20201118220413-12-571620/kerumunan-rizieq-di-bogor-diperiksa-tim-gabungan-polri')\n"
   ]
  },
  {
   "cell_type": "code",
   "execution_count": 3,
   "metadata": {},
   "outputs": [
    {
     "output_type": "execute_result",
     "data": {
      "text/plain": [
       "datetime.datetime(2020, 12, 24, 10, 40, 16)"
      ]
     },
     "metadata": {},
     "execution_count": 3
    }
   ],
   "source": [
    "article.date_publish"
   ]
  },
  {
   "cell_type": "code",
   "execution_count": 3,
   "metadata": {},
   "outputs": [
    {
     "output_type": "execute_result",
     "data": {
      "text/plain": [
       "datetime.datetime(2020, 12, 10, 0, 0)"
      ]
     },
     "metadata": {},
     "execution_count": 3
    }
   ],
   "source": [
    "# before\n",
    "article.date_publish"
   ]
  },
  {
   "cell_type": "code",
   "execution_count": 5,
   "metadata": {},
   "outputs": [
    {
     "output_type": "stream",
     "name": "stdout",
     "text": [
      "Date: 2020-12-22 22:43:32 from json\n"
     ]
    }
   ],
   "source": [
    "article = NewsPlease.from_url('https://www.kompasiana.com/berlianamarthasihotang5096/5fe21424d541df6a290e7e72/maria-teladannya-tak-pudar-oleh-waktu?utm_source=kompascom&utm_medium=article&utm_campaign=ContentFeed')"
   ]
  },
  {
   "cell_type": "code",
   "execution_count": 6,
   "metadata": {},
   "outputs": [
    {
     "output_type": "execute_result",
     "data": {
      "text/plain": [
       "datetime.datetime(2020, 12, 22, 22, 43, 32)"
      ]
     },
     "metadata": {},
     "execution_count": 6
    }
   ],
   "source": [
    "article.date_publish"
   ]
  },
  {
   "cell_type": "code",
   "execution_count": 9,
   "metadata": {},
   "outputs": [],
   "source": [
    "article.date_modify"
   ]
  },
  {
   "cell_type": "code",
   "execution_count": null,
   "metadata": {},
   "outputs": [],
   "source": []
  },
  {
   "cell_type": "code",
   "execution_count": 10,
   "metadata": {},
   "outputs": [
    {
     "output_type": "stream",
     "name": "stdout",
     "text": [
      "Date: 2020-12-14 08:51:00 from json\n"
     ]
    }
   ],
   "source": [
    "article = NewsPlease.from_url(\"https://www.cnnindonesia.com/nasional/20201214083527-32-581674/fadli-zon-siap-jamin-penangguhan-penahanan-rizieq-shihab\")"
   ]
  },
  {
   "cell_type": "code",
   "execution_count": 11,
   "metadata": {},
   "outputs": [],
   "source": [
    "article.date_modify"
   ]
  },
  {
   "cell_type": "code",
   "execution_count": null,
   "metadata": {},
   "outputs": [],
   "source": []
  }
 ]
}